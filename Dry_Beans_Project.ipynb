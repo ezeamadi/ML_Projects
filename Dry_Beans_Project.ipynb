{
 "cells": [
  {
   "cell_type": "code",
   "execution_count": 16,
   "metadata": {},
   "outputs": [],
   "source": [
    "# Load libraries\n",
    "\n",
    "import numpy\n",
    "from matplotlib import pyplot\n",
    "from pandas import read_csv\n",
    "from pandas import set_option\n",
    "from pandas.plotting import scatter_matrix\n",
    "from sklearn.preprocessing import StandardScaler\n",
    "from sklearn.model_selection import train_test_split\n",
    "from sklearn.model_selection import KFold\n",
    "from sklearn.model_selection import cross_val_score\n",
    "from sklearn.model_selection import GridSearchCV\n",
    "from sklearn.metrics import classification_report\n",
    "from sklearn.metrics import confusion_matrix\n",
    "from sklearn.metrics import accuracy_score\n",
    "from sklearn.pipeline import Pipeline\n",
    "from sklearn.linear_model import LogisticRegression\n",
    "from sklearn.tree import DecisionTreeClassifier\n",
    "from sklearn.neighbors import KNeighborsClassifier\n",
    "from sklearn.discriminant_analysis import LinearDiscriminantAnalysis\n",
    "from sklearn.naive_bayes import GaussianNB\n",
    "from sklearn.svm import SVC\n",
    "from sklearn.svm import SVR\n",
    "from sklearn.ensemble import AdaBoostClassifier\n",
    "from sklearn.ensemble import GradientBoostingClassifier\n",
    "from sklearn.ensemble import RandomForestClassifier\n",
    "from sklearn.ensemble import ExtraTreesClassifier"
   ]
  },
  {
   "cell_type": "code",
   "execution_count": 2,
   "metadata": {},
   "outputs": [],
   "source": [
    "filename = 'dry_bean.csv'\n",
    "\n",
    "names = ['AR', 'PM', 'MJL', 'MNL', 'ASP', 'ECC', 'CA', 'EQD', 'EXT', \n",
    "         'SOL', 'ROU', 'COM', 'SF1', 'SF2', 'SF3', 'SF4', 'CLA']\n",
    "\n",
    "dataset = read_csv(filename, names=names)"
   ]
  },
  {
   "cell_type": "code",
   "execution_count": 3,
   "metadata": {},
   "outputs": [],
   "source": [
    "# [Area, Perimeter, MajorAxisLength, MinorAxisLength, AspectRation, Eccentricity, ConvexArea, EquivDiameter, Extent, \n",
    "#  Solidity, roundness, Compactness, ShapeFactor1, ShapeFactor2, ShapeFactor3, ShapeFactor4, Class]"
   ]
  },
  {
   "cell_type": "code",
   "execution_count": 7,
   "metadata": {},
   "outputs": [
    {
     "name": "stdout",
     "output_type": "stream",
     "text": [
      "(13611, 17)\n",
      "-----------------------------------------------------------------\n",
      "AR       int64\n",
      "PM     float64\n",
      "MJL    float64\n",
      "MNL    float64\n",
      "ASP    float64\n",
      "ECC    float64\n",
      "CA       int64\n",
      "EQD    float64\n",
      "EXT    float64\n",
      "SOL    float64\n",
      "ROU    float64\n",
      "COM    float64\n",
      "SF1    float64\n",
      "SF2    float64\n",
      "SF3    float64\n",
      "SF4    float64\n",
      "CLA     object\n",
      "dtype: object\n",
      "-----------------------------------------------------------------\n",
      "       AR       PM      MJL      MNL    ASP    ECC     CA      EQD    EXT    SOL    ROU    COM  \\\n",
      "0   28395  610.291  208.178  173.889  1.197  0.550  28715  190.141  0.764  0.989  0.958  0.913   \n",
      "1   28734  638.018  200.525  182.734  1.097  0.412  29172  191.273  0.784  0.985  0.887  0.954   \n",
      "2   29380  624.110  212.826  175.931  1.210  0.563  29690  193.411  0.778  0.990  0.948  0.909   \n",
      "3   30008  645.884  210.558  182.517  1.154  0.499  30724  195.467  0.783  0.977  0.904  0.928   \n",
      "4   30140  620.134  201.848  190.279  1.061  0.334  30417  195.897  0.773  0.991  0.985  0.971   \n",
      "5   30279  634.927  212.561  181.510  1.171  0.520  30600  196.348  0.776  0.990  0.944  0.924   \n",
      "6   30477  670.033  211.050  184.039  1.147  0.489  30970  196.989  0.762  0.984  0.853  0.933   \n",
      "7   30519  629.727  212.997  182.737  1.166  0.514  30847  197.124  0.771  0.989  0.967  0.925   \n",
      "8   30685  635.681  213.534  183.157  1.166  0.514  31044  197.660  0.772  0.988  0.954  0.926   \n",
      "9   30834  631.934  217.228  180.897  1.201  0.554  31120  198.139  0.784  0.991  0.970  0.912   \n",
      "10  30917  640.765  213.560  184.440  1.158  0.504  31280  198.406  0.771  0.988  0.946  0.929   \n",
      "11  31091  638.558  210.486  188.327  1.118  0.447  31458  198.963  0.786  0.988  0.958  0.945   \n",
      "12  31107  640.594  214.649  184.969  1.160  0.507  31423  199.014  0.761  0.990  0.953  0.927   \n",
      "13  31158  642.626  216.485  183.644  1.179  0.530  31492  199.177  0.799  0.989  0.948  0.920   \n",
      "14  31158  641.105  212.067  187.193  1.133  0.470  31474  199.177  0.781  0.990  0.953  0.939   \n",
      "15  31178  636.888  212.976  186.562  1.142  0.482  31520  199.241  0.764  0.989  0.966  0.936   \n",
      "16  31202  644.454  215.641  184.472  1.169  0.518  31573  199.318  0.779  0.988  0.944  0.924   \n",
      "17  31203  639.782  215.068  184.875  1.163  0.511  31558  199.321  0.763  0.989  0.958  0.927   \n",
      "18  31272  638.666  212.450  187.536  1.133  0.470  31593  199.541  0.770  0.990  0.963  0.939   \n",
      "19  31335  635.011  216.790  184.163  1.177  0.528  31599  199.742  0.774  0.992  0.977  0.921   \n",
      "\n",
      "      SF1    SF2    SF3    SF4    CLA  \n",
      "0   0.007  0.003  0.834  0.999  SEKER  \n",
      "1   0.007  0.004  0.910  0.998  SEKER  \n",
      "2   0.007  0.003  0.826  0.999  SEKER  \n",
      "3   0.007  0.003  0.862  0.994  SEKER  \n",
      "4   0.007  0.004  0.942  0.999  SEKER  \n",
      "5   0.007  0.003  0.853  0.999  SEKER  \n",
      "6   0.007  0.003  0.871  0.999  SEKER  \n",
      "7   0.007  0.003  0.857  0.998  SEKER  \n",
      "8   0.007  0.003  0.857  0.999  SEKER  \n",
      "9   0.007  0.003  0.832  0.999  SEKER  \n",
      "10  0.007  0.003  0.863  0.999  SEKER  \n",
      "11  0.007  0.003  0.894  0.999  SEKER  \n",
      "12  0.007  0.003  0.860  0.998  SEKER  \n",
      "13  0.007  0.003  0.846  0.998  SEKER  \n",
      "14  0.007  0.003  0.882  0.999  SEKER  \n",
      "15  0.007  0.003  0.875  0.999  SEKER  \n",
      "16  0.007  0.003  0.854  0.999  SEKER  \n",
      "17  0.007  0.003  0.859  0.999  SEKER  \n",
      "18  0.007  0.003  0.882  0.999  SEKER  \n",
      "19  0.007  0.003  0.849  0.999  SEKER  \n",
      "-----------------------------------------------------------------\n",
      "               AR         PM        MJL        MNL        ASP        ECC          CA        EQD  \\\n",
      "count   13611.000  13611.000  13611.000  13611.000  13611.000  13611.000   13611.000  13611.000   \n",
      "mean    53048.285    855.283    320.142    202.271      1.583      0.751   53768.200    253.064   \n",
      "std     29324.096    214.290     85.694     44.970      0.247      0.092   29774.916     59.177   \n",
      "min     20420.000    524.736    183.601    122.513      1.025      0.219   20684.000    161.244   \n",
      "25%     36328.000    703.524    253.304    175.848      1.432      0.716   36714.500    215.068   \n",
      "50%     44652.000    794.941    296.883    192.432      1.551      0.764   45178.000    238.438   \n",
      "75%     61332.000    977.213    376.495    217.032      1.707      0.810   62294.000    279.446   \n",
      "max    254616.000   1985.370    738.860    460.198      2.430      0.911  263261.000    569.374   \n",
      "\n",
      "             EXT        SOL        ROU        COM        SF1        SF2        SF3        SF4  \n",
      "count  13611.000  13611.000  13611.000  13611.000  13611.000  1.361e+04  13611.000  13611.000  \n",
      "mean       0.750      0.987      0.873      0.800      0.007  1.716e-03      0.644      0.995  \n",
      "std        0.049      0.005      0.060      0.062      0.001  5.959e-04      0.099      0.004  \n",
      "min        0.555      0.919      0.490      0.641      0.003  5.642e-04      0.410      0.948  \n",
      "25%        0.719      0.986      0.832      0.762      0.006  1.154e-03      0.581      0.994  \n",
      "50%        0.760      0.988      0.883      0.801      0.007  1.694e-03      0.642      0.996  \n",
      "75%        0.787      0.990      0.917      0.834      0.007  2.170e-03      0.696      0.998  \n",
      "max        0.866      0.995      0.991      0.987      0.010  3.665e-03      0.975      1.000  \n",
      "-----------------------------------------------------------------\n",
      "CLA\n",
      "BARBUNYA    1322\n",
      "BOMBAY       522\n",
      "CALI        1630\n",
      "DERMASON    3546\n",
      "HOROZ       1928\n",
      "SEKER       2027\n",
      "SIRA        2636\n",
      "dtype: int64\n"
     ]
    }
   ],
   "source": [
    "# Descriptive Statistics\n",
    "\n",
    "print(dataset.shape)\n",
    "\n",
    "print(\"-----------------------------------------------------------------\")\n",
    "\n",
    "set_option('display.max_rows', 500)\n",
    "print(dataset.dtypes)\n",
    "\n",
    "print(\"-----------------------------------------------------------------\")\n",
    "\n",
    "set_option('display.width', 100) \n",
    "print(dataset.head(20))\n",
    "\n",
    "print(\"-----------------------------------------------------------------\")\n",
    "\n",
    "set_option('precision', 3) \n",
    "print(dataset.describe())\n",
    "\n",
    "print(\"-----------------------------------------------------------------\")\n",
    "\n",
    "print(dataset.groupby('CLA').size())\n",
    "\n"
   ]
  },
  {
   "cell_type": "code",
   "execution_count": 9,
   "metadata": {},
   "outputs": [
    {
     "data": {
      "image/png": "[encoded data removed]",
      "text/plain": [
       "<Figure size 432x288 with 16 Axes>"
      ]
     },
     "metadata": {
      "needs_background": "light"
     },
     "output_type": "display_data"
    },
    {
     "data": {
      "image/png": "[encoded data removed]",
      "text/plain": [
       "<Figure size 432x288 with 16 Axes>"
      ]
     },
     "metadata": {
      "needs_background": "light"
     },
     "output_type": "display_data"
    }
   ],
   "source": [
    "## Unimodal Data Visualizations\n",
    "\n",
    "dataset.hist(sharex=False, sharey=False, xlabelsize=1, ylabelsize=1)\n",
    "pyplot.show()\n",
    "\n",
    "dataset.plot(kind='density', subplots=True, layout=(4,4), sharex=False, \n",
    "             legend=False, fontsize=1)\n",
    "pyplot.show()"
   ]
  },
  {
   "cell_type": "code",
   "execution_count": 12,
   "metadata": {},
   "outputs": [
    {
     "data": {
      "image/png": "[encoded data removed]",
      "text/plain": [
       "<Figure size 432x288 with 2 Axes>"
      ]
     },
     "metadata": {
      "needs_background": "light"
     },
     "output_type": "display_data"
    },
    {
     "name": "stdout",
     "output_type": "stream",
     "text": [
      "-------------------------------------------------------------------------------------------------------------\n",
      "       AR    PM   MJL       MNL       ASP   ECC    CA   EQD   EXT   SOL   ROU       COM       SF1  \\\n",
      "AR   1.00  0.97  0.93  9.52e-01  2.42e-01  0.27  1.00  0.98  0.05 -0.20 -0.36 -2.68e-01 -8.48e-01   \n",
      "PM   0.97  1.00  0.98  9.13e-01  3.85e-01  0.39  0.97  0.99 -0.02 -0.30 -0.55 -4.07e-01 -8.65e-01   \n",
      "MJL  0.93  0.98  1.00  8.26e-01  5.50e-01  0.54  0.93  0.96 -0.08 -0.28 -0.60 -5.68e-01 -7.74e-01   \n",
      "MNL  0.95  0.91  0.83  1.00e+00 -9.16e-03  0.02  0.95  0.95  0.15 -0.16 -0.21 -1.51e-02 -9.47e-01   \n",
      "ASP  0.24  0.39  0.55 -9.16e-03  1.00e+00  0.92  0.24  0.30 -0.37 -0.27 -0.77 -9.88e-01  2.46e-02   \n",
      "ECC  0.27  0.39  0.54  1.96e-02  9.24e-01  1.00  0.27  0.32 -0.32 -0.30 -0.72 -9.70e-01  1.99e-02   \n",
      "CA   1.00  0.97  0.93  9.51e-01  2.43e-01  0.27  1.00  0.99  0.05 -0.21 -0.36 -2.70e-01 -8.48e-01   \n",
      "EQD  0.98  0.99  0.96  9.49e-01  3.04e-01  0.32  0.99  1.00  0.03 -0.23 -0.44 -3.28e-01 -8.93e-01   \n",
      "EXT  0.05 -0.02 -0.08  1.46e-01 -3.70e-01 -0.32  0.05  0.03  1.00  0.19  0.34  3.54e-01 -1.42e-01   \n",
      "SOL -0.20 -0.30 -0.28 -1.56e-01 -2.68e-01 -0.30 -0.21 -0.23  0.19  1.00  0.61  3.04e-01  1.53e-01   \n",
      "ROU -0.36 -0.55 -0.60 -2.10e-01 -7.67e-01 -0.72 -0.36 -0.44  0.34  0.61  1.00  7.68e-01  2.30e-01   \n",
      "COM -0.27 -0.41 -0.57 -1.51e-02 -9.88e-01 -0.97 -0.27 -0.33  0.35  0.30  0.77  1.00e+00 -9.39e-03   \n",
      "SF1 -0.85 -0.86 -0.77 -9.47e-01  2.46e-02  0.02 -0.85 -0.89 -0.14  0.15  0.23 -9.39e-03  1.00e+00   \n",
      "SF2 -0.64 -0.77 -0.86 -4.71e-01 -8.38e-01 -0.86 -0.64 -0.71  0.24  0.34  0.78  8.69e-01  4.69e-01   \n",
      "SF3 -0.27 -0.41 -0.57 -1.93e-02 -9.79e-01 -0.98 -0.27 -0.33  0.35  0.31  0.76  9.99e-01 -8.32e-03   \n",
      "SF4 -0.36 -0.43 -0.48 -2.64e-01 -4.49e-01 -0.45 -0.36 -0.39  0.15  0.70  0.47  4.84e-01  2.49e-01   \n",
      "\n",
      "      SF2       SF3   SF4  \n",
      "AR  -0.64 -2.72e-01 -0.36  \n",
      "PM  -0.77 -4.08e-01 -0.43  \n",
      "MJL -0.86 -5.68e-01 -0.48  \n",
      "MNL -0.47 -1.93e-02 -0.26  \n",
      "ASP -0.84 -9.79e-01 -0.45  \n",
      "ECC -0.86 -9.81e-01 -0.45  \n",
      "CA  -0.64 -2.74e-01 -0.36  \n",
      "EQD -0.71 -3.30e-01 -0.39  \n",
      "EXT  0.24  3.48e-01  0.15  \n",
      "SOL  0.34  3.08e-01  0.70  \n",
      "ROU  0.78  7.63e-01  0.47  \n",
      "COM  0.87  9.99e-01  0.48  \n",
      "SF1  0.47 -8.32e-03  0.25  \n",
      "SF2  1.00  8.73e-01  0.53  \n",
      "SF3  0.87  1.00e+00  0.48  \n",
      "SF4  0.53  4.84e-01  1.00  \n"
     ]
    }
   ],
   "source": [
    "# Multimodal Data Visualizations\n",
    "\n",
    "# correlation matrix\n",
    "fig = pyplot.figure()\n",
    "ax = fig.add_subplot(111)\n",
    "cax = ax.matshow(dataset.corr(), vmin=-1, vmax=1, interpolation='none') \n",
    "fig.colorbar(cax)\n",
    "pyplot.show()\n",
    "\n",
    "print(\"-------------------------------------------------------------------------------------------------------------\")\n",
    "\n",
    "set_option('precision', 2) \n",
    "print(dataset.corr(method='pearson'))"
   ]
  },
  {
   "cell_type": "code",
   "execution_count": 21,
   "metadata": {},
   "outputs": [],
   "source": [
    "# Split Dataset into train and test\n",
    "\n",
    "array = dataset.values\n",
    "X = array[: , :-1]\n",
    "y = array[: , -1]\n",
    "\n",
    "num_folds = 10\n",
    "scoring = 'accuracy'\n",
    "validation_size = 0.20\n",
    "seed = 7\n",
    "X_train, X_test, Y_train, Y_test = train_test_split(X, y, \n",
    "                                                    test_size=validation_size, \n",
    "                                                    random_state=seed\n",
    "                                                   )"
   ]
  },
  {
   "cell_type": "code",
   "execution_count": 18,
   "metadata": {},
   "outputs": [
    {
     "name": "stdout",
     "output_type": "stream",
     "text": [
      "LR: 0.866089 (0.006745)\n",
      "LDA: 0.904756 (0.009442)\n",
      "KNN: 0.722356 (0.008937)\n",
      "CART: 0.894654 (0.007989)\n",
      "NB: 0.763317 (0.006967)\n",
      "SVM: 0.265062 (0.014298)\n"
     ]
    }
   ],
   "source": [
    "# Spot-Check Algorithms\n",
    "\n",
    "models = list()\n",
    "models.append((\"LR\", LogisticRegression(solver='liblinear', multi_class='ovr')))\n",
    "models.append(('LDA', LinearDiscriminantAnalysis()))\n",
    "models.append(('KNN', KNeighborsClassifier()))\n",
    "models.append(('CART', DecisionTreeClassifier()))\n",
    "models.append(('NB', GaussianNB()))\n",
    "models.append(('SVM', SVC(gamma='auto')))\n",
    "\n",
    "# Evaluate Each Model\n",
    "results, names = list(), list()\n",
    "\n",
    "for name, model in models:\n",
    "    kfold = KFold(n_splits=10, random_state=seed, shuffle=True)\n",
    "    cv_results = cross_val_score(model, X_train, Y_train, cv=kfold, scoring='accuracy')\n",
    "    results.append(cv_results)\n",
    "    names.append(name)\n",
    "    msg = '%s: %f (%f)' % (name, cv_results.mean(), cv_results.std())\n",
    "    print(msg)\n",
    "\n",
    "# SVM did incredibly poorly"
   ]
  },
  {
   "cell_type": "code",
   "execution_count": 19,
   "metadata": {},
   "outputs": [
    {
     "data": {
      "image/png": "[encoded data removed]",
      "text/plain": [
       "<Figure size 432x288 with 1 Axes>"
      ]
     },
     "metadata": {
      "needs_background": "light"
     },
     "output_type": "display_data"
    }
   ],
   "source": [
    "# Compare Algorithms\n",
    "\n",
    "fig = pyplot.figure() \n",
    "fig.suptitle('Algorithm Comparison') \n",
    "ax = fig.add_subplot(111) \n",
    "pyplot.boxplot(results) \n",
    "ax.set_xticklabels(names) \n",
    "pyplot.show()\n"
   ]
  },
  {
   "cell_type": "code",
   "execution_count": 22,
   "metadata": {},
   "outputs": [
    {
     "name": "stdout",
     "output_type": "stream",
     "text": [
      "ScaledLR: 0.917431 (0.008356)\n",
      "ScaledLDA: 0.904756 (0.009442)\n",
      "ScaledKNN: 0.924963 (0.008060)\n",
      "ScaledCART: 0.896491 (0.010261)\n",
      "ScaledNB: 0.898878 (0.010306)\n",
      "ScaledSVM: 0.930840 (0.006714)\n"
     ]
    }
   ],
   "source": [
    "# Standardize the dataset\n",
    "\n",
    "pipelines = []\n",
    "pipelines.append(('ScaledLR', Pipeline([('Scaler', StandardScaler()), ('LR', LogisticRegression(solver='liblinear'))]))) \n",
    "pipelines.append(('ScaledLDA', Pipeline([('Scaler', StandardScaler()), ('LDA', LinearDiscriminantAnalysis())])))\n",
    "pipelines.append(('ScaledKNN', Pipeline([('Scaler', StandardScaler()), ('KNN', KNeighborsClassifier())])))\n",
    "pipelines.append(('ScaledCART', Pipeline([('Scaler', StandardScaler()), ('CART', DecisionTreeClassifier())])))\n",
    "pipelines.append(('ScaledNB', Pipeline([('Scaler', StandardScaler()), ('NB', GaussianNB())])))\n",
    "pipelines.append(('ScaledSVM', Pipeline([('Scaler', StandardScaler()), ('SVM', SVC(gamma='auto'))])))\n",
    "\n",
    "results = []\n",
    "names = []\n",
    "for name, model in pipelines:\n",
    "    kfold = KFold(n_splits=num_folds, random_state=seed, shuffle=True)\n",
    "    cv_results = cross_val_score(model, X_train, Y_train, cv=kfold, scoring=scoring)\n",
    "    results.append(cv_results)\n",
    "    names.append(name)\n",
    "    msg = \"%s: %f (%f)\" % (name, cv_results.mean(), cv_results.std())\n",
    "    print(msg)\n",
    "    \n",
    "# Note that SVM is now the best."
   ]
  },
  {
   "cell_type": "code",
   "execution_count": 23,
   "metadata": {},
   "outputs": [
    {
     "data": {
      "image/png": "[encoded data removed]",
      "text/plain": [
       "<Figure size 432x288 with 1 Axes>"
      ]
     },
     "metadata": {
      "needs_background": "light"
     },
     "output_type": "display_data"
    }
   ],
   "source": [
    "# Compare Algorithms\n",
    "\n",
    "fig = pyplot.figure()\n",
    "fig.suptitle('Scaled Algorithm Comparison') \n",
    "ax = fig.add_subplot(111) \n",
    "pyplot.boxplot(results) \n",
    "ax.set_xticklabels(names)\n",
    "pyplot.show()"
   ]
  },
  {
   "cell_type": "code",
   "execution_count": 24,
   "metadata": {},
   "outputs": [
    {
     "name": "stdout",
     "output_type": "stream",
     "text": [
      "Best: 0.926891 using {'n_neighbors': 19}\n",
      "0.908521 (0.010923) with: {'n_neighbors': 1}\n",
      "0.919084 (0.007060) with: {'n_neighbors': 3}\n",
      "0.924871 (0.008254) with: {'n_neighbors': 5}\n",
      "0.924688 (0.008058) with: {'n_neighbors': 7}\n",
      "0.925330 (0.006707) with: {'n_neighbors': 9}\n",
      "0.924963 (0.007730) with: {'n_neighbors': 11}\n",
      "0.924044 (0.007003) with: {'n_neighbors': 13}\n",
      "0.926065 (0.008294) with: {'n_neighbors': 15}\n",
      "0.926432 (0.007874) with: {'n_neighbors': 17}\n",
      "0.926891 (0.007440) with: {'n_neighbors': 19}\n",
      "0.925881 (0.007772) with: {'n_neighbors': 21}\n"
     ]
    }
   ],
   "source": [
    "# We will move ahead with KNN and SVM to try and improve their accuracies further\n",
    "\n",
    "## KNN\n",
    "\n",
    "scaler = StandardScaler().fit(X_train)\n",
    "rescaledX = scaler.transform(X_train)\n",
    "neighbors = [1,3,5,7,9,11,13,15,17,19,21]\n",
    "param_grid = dict(n_neighbors=neighbors)\n",
    "model = KNeighborsClassifier()\n",
    "kfold = KFold(n_splits=num_folds, random_state=seed, shuffle=True)\n",
    "grid = GridSearchCV(estimator=model, param_grid=param_grid, \n",
    "                    scoring=scoring, cv=kfold)\n",
    "grid_result = grid.fit(rescaledX, Y_train)\n",
    "print(\"Best: %f using %s\" % (grid_result.best_score_, \n",
    "                             grid_result.best_params_))\n",
    "\n",
    "means = grid_result.cv_results_['mean_test_score'] \n",
    "stds = grid_result.cv_results_['std_test_score'] \n",
    "params = grid_result.cv_results_['params']\n",
    "for mean, stdev, param in zip(means, stds, params):\n",
    "    print(\"%f (%f) with: %r\" % (mean, stdev, param))"
   ]
  },
  {
   "cell_type": "code",
   "execution_count": 25,
   "metadata": {},
   "outputs": [
    {
     "name": "stdout",
     "output_type": "stream",
     "text": [
      "Best: 0.933137 using {'C': 2.0, 'kernel': 'rbf'}\n",
      "0.927717 (0.008829) with: {'C': 0.1, 'kernel': 'linear'}\n",
      "0.867467 (0.010007) with: {'C': 0.1, 'kernel': 'poly'}\n",
      "0.926065 (0.007065) with: {'C': 0.1, 'kernel': 'rbf'}\n",
      "0.798951 (0.008724) with: {'C': 0.1, 'kernel': 'sigmoid'}\n",
      "0.927350 (0.009257) with: {'C': 0.3, 'kernel': 'linear'}\n",
      "0.891990 (0.010543) with: {'C': 0.3, 'kernel': 'poly'}\n",
      "0.929004 (0.007205) with: {'C': 0.3, 'kernel': 'rbf'}\n",
      "0.751743 (0.007279) with: {'C': 0.3, 'kernel': 'sigmoid'}\n",
      "0.927166 (0.009743) with: {'C': 0.5, 'kernel': 'linear'}\n",
      "0.899613 (0.010066) with: {'C': 0.5, 'kernel': 'poly'}\n",
      "0.929371 (0.006537) with: {'C': 0.5, 'kernel': 'rbf'}\n",
      "0.736497 (0.007959) with: {'C': 0.5, 'kernel': 'sigmoid'}\n",
      "0.927258 (0.009388) with: {'C': 0.7, 'kernel': 'linear'}\n",
      "0.903286 (0.011143) with: {'C': 0.7, 'kernel': 'poly'}\n",
      "0.930197 (0.007223) with: {'C': 0.7, 'kernel': 'rbf'}\n",
      "0.730344 (0.007276) with: {'C': 0.7, 'kernel': 'sigmoid'}\n",
      "0.926982 (0.009218) with: {'C': 0.9, 'kernel': 'linear'}\n",
      "0.906685 (0.010117) with: {'C': 0.9, 'kernel': 'poly'}\n",
      "0.930656 (0.007307) with: {'C': 0.9, 'kernel': 'rbf'}\n",
      "0.725660 (0.007283) with: {'C': 0.9, 'kernel': 'sigmoid'}\n",
      "0.927166 (0.009262) with: {'C': 1.0, 'kernel': 'linear'}\n",
      "0.908706 (0.009362) with: {'C': 1.0, 'kernel': 'poly'}\n",
      "0.930656 (0.006915) with: {'C': 1.0, 'kernel': 'rbf'}\n",
      "0.724099 (0.006829) with: {'C': 1.0, 'kernel': 'sigmoid'}\n",
      "0.927166 (0.009290) with: {'C': 1.3, 'kernel': 'linear'}\n",
      "0.911644 (0.009513) with: {'C': 1.3, 'kernel': 'poly'}\n",
      "0.931851 (0.006342) with: {'C': 1.3, 'kernel': 'rbf'}\n",
      "0.721160 (0.007403) with: {'C': 1.3, 'kernel': 'sigmoid'}\n",
      "0.927350 (0.009293) with: {'C': 1.5, 'kernel': 'linear'}\n",
      "0.913022 (0.009356) with: {'C': 1.5, 'kernel': 'poly'}\n",
      "0.932402 (0.006623) with: {'C': 1.5, 'kernel': 'rbf'}\n",
      "0.720058 (0.007497) with: {'C': 1.5, 'kernel': 'sigmoid'}\n",
      "0.927441 (0.009152) with: {'C': 1.7, 'kernel': 'linear'}\n",
      "0.913757 (0.008625) with: {'C': 1.7, 'kernel': 'poly'}\n",
      "0.932218 (0.006539) with: {'C': 1.7, 'kernel': 'rbf'}\n",
      "0.719323 (0.008688) with: {'C': 1.7, 'kernel': 'sigmoid'}\n",
      "0.927074 (0.009042) with: {'C': 2.0, 'kernel': 'linear'}\n",
      "0.915318 (0.008906) with: {'C': 2.0, 'kernel': 'poly'}\n",
      "0.933137 (0.007071) with: {'C': 2.0, 'kernel': 'rbf'}\n",
      "0.718496 (0.007781) with: {'C': 2.0, 'kernel': 'sigmoid'}\n"
     ]
    }
   ],
   "source": [
    "## Tuning SVM \n",
    "\n",
    "scaler = StandardScaler().fit(X_train)\n",
    "rescaledX = scaler.transform(X_train)\n",
    "c_values = [0.1, 0.3, 0.5, 0.7, 0.9, 1.0, 1.3, 1.5, 1.7, 2.0]\n",
    "kernel_values = ['linear', 'poly', 'rbf', 'sigmoid']\n",
    "param_grid = dict(C=c_values, kernel=kernel_values)\n",
    "model = SVC(gamma='auto')\n",
    "kfold = KFold(n_splits=num_folds, random_state=seed, shuffle=True)\n",
    "grid = GridSearchCV(estimator=model, param_grid=param_grid, \n",
    "                    scoring=scoring, cv=kfold) \n",
    "grid_result = grid.fit(rescaledX, Y_train)\n",
    "\n",
    "print(\"Best: %f using %s\" % (grid_result.best_score_, \n",
    "                             grid_result.best_params_))\n",
    "\n",
    "means = grid_result.cv_results_['mean_test_score']\n",
    "stds = grid_result.cv_results_['std_test_score']\n",
    "params = grid_result.cv_results_['params']\n",
    "for mean, stdev, param in zip(means, stds, params):\n",
    "    print(\"%f (%f) with: %r\" % (mean, stdev, param))"
   ]
  },
  {
   "cell_type": "code",
   "execution_count": 26,
   "metadata": {},
   "outputs": [
    {
     "name": "stdout",
     "output_type": "stream",
     "text": [
      "AB: 0.689379 (0.038774)\n",
      "GBM: 0.926983 (0.005123)\n",
      "RF: 0.919452 (0.006130)\n",
      "ET: 0.916053 (0.007313)\n"
     ]
    }
   ],
   "source": [
    "# Ensemble Algorithms\n",
    "\n",
    "ensembles = []\n",
    "ensembles.append(('AB', AdaBoostClassifier())) \n",
    "ensembles.append(('GBM', GradientBoostingClassifier())) \n",
    "ensembles.append(('RF', RandomForestClassifier(n_estimators=10))) \n",
    "ensembles.append(('ET', ExtraTreesClassifier(n_estimators=10))) \n",
    "\n",
    "results = []\n",
    "names = []\n",
    "for name, model in ensembles:\n",
    "    kfold = KFold(n_splits=num_folds, random_state=seed, shuffle=True)\n",
    "    cv_results = cross_val_score(model, X_train, Y_train, cv=kfold, \n",
    "                                 scoring=scoring)\n",
    "    results.append(cv_results)\n",
    "    names.append(name)\n",
    "    msg = \"%s: %f (%f)\" % (name, cv_results.mean(), cv_results.std())\n",
    "    print(msg)"
   ]
  },
  {
   "cell_type": "code",
   "execution_count": 27,
   "metadata": {},
   "outputs": [
    {
     "data": {
      "image/png": "[encoded data removed]",
      "text/plain": [
       "<Figure size 432x288 with 1 Axes>"
      ]
     },
     "metadata": {
      "needs_background": "light"
     },
     "output_type": "display_data"
    }
   ],
   "source": [
    "# Compare Algorithms\n",
    "\n",
    "fig = pyplot.figure()\n",
    "fig.suptitle('Ensemble Algorithm Comparison') \n",
    "ax = fig.add_subplot(111) \n",
    "pyplot.boxplot(results) \n",
    "ax.set_xticklabels(names)\n",
    "pyplot.show()"
   ]
  },
  {
   "cell_type": "code",
   "execution_count": 29,
   "metadata": {},
   "outputs": [
    {
     "name": "stdout",
     "output_type": "stream",
     "text": [
      "0.922879177377892\n",
      "[[254   0  16   0   1   1   4]\n",
      " [  0  90   0   0   0   0   0]\n",
      " [  4   0 322   0   8   1   4]\n",
      " [  0   0   0 685   0  13  43]\n",
      " [  0   0   6   4 365   0   8]\n",
      " [  7   0   0   5   0 366  11]\n",
      " [  4   0   2  52   8   8 431]]\n",
      "              precision    recall  f1-score   support\n",
      "\n",
      "    BARBUNYA       0.94      0.92      0.93       276\n",
      "      BOMBAY       1.00      1.00      1.00        90\n",
      "        CALI       0.93      0.95      0.94       339\n",
      "    DERMASON       0.92      0.92      0.92       741\n",
      "       HOROZ       0.96      0.95      0.95       383\n",
      "       SEKER       0.94      0.94      0.94       389\n",
      "        SIRA       0.86      0.85      0.86       505\n",
      "\n",
      "    accuracy                           0.92      2723\n",
      "   macro avg       0.94      0.93      0.94      2723\n",
      "weighted avg       0.92      0.92      0.92      2723\n",
      "\n"
     ]
    }
   ],
   "source": [
    "# prepare the model for SVM\n",
    "\n",
    "scaler = StandardScaler().fit(X_train)\n",
    "rescaledX = scaler.transform(X_train)\n",
    "model = SVC(C=2.0, kernel='rbf')\n",
    "model.fit(rescaledX, Y_train)\n",
    "\n",
    "# estimate accuracy on validation dataset\n",
    "\n",
    "rescaledValidationX = scaler.transform(X_test)\n",
    "predictions = model.predict(rescaledValidationX)\n",
    "\n",
    "print(accuracy_score(Y_test, predictions))\n",
    "print(confusion_matrix(Y_test, predictions))\n",
    "print(classification_report(Y_test, predictions))\n"
   ]
  },
  {
   "cell_type": "code",
   "execution_count": null,
   "metadata": {},
   "outputs": [],
   "source": []
  }
 ],
 "metadata": {
  "kernelspec": {
   "display_name": "Python 3",
   "language": "python",
   "name": "python3"
  },
  "language_info": {
   "codemirror_mode": {
    "name": "ipython",
    "version": 3
   },
   "file_extension": ".py",
   "mimetype": "text/x-python",
   "name": "python",
   "nbconvert_exporter": "python",
   "pygments_lexer": "ipython3",
   "version": "3.8.5"
  }
 },
 "nbformat": 4,
 "nbformat_minor": 4
}
